{
 "cells": [
  {
   "cell_type": "markdown",
   "metadata": {},
   "source": [
    "# OR |"
   ]
  },
  {
   "cell_type": "markdown",
   "metadata": {},
   "source": [
    "### Truth Table\n",
    "**X1** **X2** **Y** <br>\n",
    "  0 0 0 <br>\n",
    "  0 1 1 <br>\n",
    "  1 0 1 <br>\n",
    "  1 1 1 <br>\n"
   ]
  },
  {
   "cell_type": "code",
   "execution_count": 23,
   "metadata": {},
   "outputs": [
    {
     "data": {
      "image/png": "[encoded data removed]",
      "text/plain": [
       "<Figure size 432x288 with 1 Axes>"
      ]
     },
     "metadata": {
      "needs_background": "light"
     },
     "output_type": "display_data"
    }
   ],
   "source": [
    "import matplotlib.pyplot as plt\n",
    "X1 = [0, 1, 1]\n",
    "Y1 = [1, 0, 1]\n",
    "X0 = [0]\n",
    "Y0 = [0]\n",
    "plt.scatter(X1, Y1, color='orange', s=100,marker='^')\n",
    "plt.scatter(X0, Y0, color='red', s=100)\n",
    "plt.show()"
   ]
  },
  {
   "cell_type": "markdown",
   "metadata": {},
   "source": [
    "from graph we can see that points are linearly Dependent <br>\n",
    "We can make Network with 1 Neuron "
   ]
  },
  {
   "cell_type": "markdown",
   "metadata": {},
   "source": [
    "  ### Parameters\n",
    "  * Input layer = 2 (x1, x2)\n",
    "  * values in input layer = (0,1)\n",
    "  * Bias  = 1 (x0)\n",
    "  * Weights = w0, w1, w2\n",
    "  * activation Function =  sigmoid\n",
    "  <br>\n",
    "  <br>\n",
    "  * z = w0\\*x0 + w1\\*x1 + w2\\*x2\n",
    "  \n",
    "          if X1 = 0,X2 =0 then Y = 0 i.e. z<0 \n",
    "          else  Y = 1 i.e. z>=0\n",
    "  \n",
    "  "
   ]
  },
  {
   "cell_type": "code",
   "execution_count": 15,
   "metadata": {},
   "outputs": [],
   "source": [
    "def scale(val):\n",
    "    if val>=0.5:\n",
    "        return 1\n",
    "    else:\n",
    "        return 0"
   ]
  },
  {
   "cell_type": "code",
   "execution_count": 17,
   "metadata": {},
   "outputs": [
    {
     "name": "stdout",
     "output_type": "stream",
     "text": [
      "Enter Weights For bias \n",
      "-25\n",
      "Enter Weights For InputX1 \n",
      "50\n",
      "Enter Weights For InputX2 \n",
      "50\n"
     ]
    }
   ],
   "source": [
    "print(\"Enter Weights For bias \")\n",
    "w0 = int(input())\n",
    "print(\"Enter Weights For InputX1 \")\n",
    "w1 = int(input())\n",
    "print(\"Enter Weights For InputX2 \")\n",
    "w2 = int(input())\n"
   ]
  },
  {
   "cell_type": "markdown",
   "metadata": {},
   "source": [
    "When X1=0,X2=0 then Y=0 i.e. Z<0 or w0<0<br>\n",
    "When X1=0,X2=1 then Y=1 i.e. Z>=0 or w0+w2>=0<br>\n",
    "When X1=1,X2=0 then Y=1 i.e. Z>=0 or w0+w1>=0<br>\n",
    "When X1=1,X2=1 then Y=1 i.e. Z>=0 or w0+w1+w2>=0<br>"
   ]
  },
  {
   "cell_type": "code",
   "execution_count": 18,
   "metadata": {},
   "outputs": [
    {
     "name": "stdout",
     "output_type": "stream",
     "text": [
      "Weights are w0:-25 w1:50 w2:50 \n",
      "X1\tX2\tY\tZ\tYpred\n",
      "0\t0\t0\t-25\t0\n",
      "0\t1\t1\t25\t1\n",
      "1\t0\t1\t25\t1\n",
      "1\t1\t1\t75\t1\n"
     ]
    }
   ],
   "source": [
    "import math\n",
    "print(\"Weights are w0:{w0} w1:{w1} w2:{w2} \".format(w0=w0, w1=w1, w2=w2))\n",
    "print(\"X1\\tX2\\tY\\tZ\\tYpred\")\n",
    "for x1 in range (2):\n",
    "    for x2 in range(2):\n",
    "        Z = w0+ w1*x1+ w2*x2 \n",
    "        sigmoid = 1/(1+math.exp(-Z))\n",
    "        print(\"{X1}\\t{X2}\\t{y}\\t{z}\\t{yp}\".format(X1=x1,X2=x2,y = int(x1 |x2),z=Z,yp=scale(sigmoid) ))"
   ]
  },
  {
   "cell_type": "code",
   "execution_count": null,
   "metadata": {},
   "outputs": [],
   "source": []
  },
  {
   "cell_type": "code",
   "execution_count": null,
   "metadata": {},
   "outputs": [],
   "source": []
  }
 ],
 "metadata": {
  "kernelspec": {
   "display_name": "Python 3",
   "language": "python",
   "name": "python3"
  },
  "language_info": {
   "codemirror_mode": {
    "name": "ipython",
    "version": 3
   },
   "file_extension": ".py",
   "mimetype": "text/x-python",
   "name": "python",
   "nbconvert_exporter": "python",
   "pygments_lexer": "ipython3",
   "version": "3.8.5"
  }
 },
 "nbformat": 4,
 "nbformat_minor": 4
}
