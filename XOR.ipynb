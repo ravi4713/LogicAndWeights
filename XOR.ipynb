{
 "cells": [
  {
   "cell_type": "markdown",
   "metadata": {},
   "source": [
    "# XOR ^"
   ]
  },
  {
   "cell_type": "markdown",
   "metadata": {},
   "source": [
    "### Truth Table\n",
    "**X1** **X2** **Y** <br>\n",
    "  0 0 0 <br>\n",
    "  0 1 1 <br>\n",
    "  1 0 1 <br>\n",
    "  1 1 0 <br>"
   ]
  },
  {
   "cell_type": "code",
   "execution_count": 15,
   "metadata": {},
   "outputs": [
    {
     "data": {
      "image/png": "[encoded data removed]",
      "text/plain": [
       "<Figure size 432x288 with 1 Axes>"
      ]
     },
     "metadata": {
      "needs_background": "light"
     },
     "output_type": "display_data"
    }
   ],
   "source": [
    "import matplotlib.pyplot as plt\n",
    "X1 = [0, 1]\n",
    "Y1 = [1, 0]\n",
    "X0 = [0, 1]\n",
    "Y0 = [0, 1]\n",
    "plt.scatter(X1, Y1, color='orange', s=100,marker='^')\n",
    "plt.scatter(X0, Y0, color='red', s=100)\n",
    "plt.show()"
   ]
  },
  {
   "cell_type": "markdown",
   "metadata": {},
   "source": [
    "from graph we can see that points are not linearly dependent <br>\n",
    "We can't make Network with 1 Neuron "
   ]
  },
  {
   "cell_type": "markdown",
   "metadata": {},
   "source": [
    "* now we can split XOR as Combination of two different linearly dependent function \n",
    "* XOR ->((AND) NOR (NOR))\n"
   ]
  },
  {
   "cell_type": "code",
   "execution_count": 16,
   "metadata": {},
   "outputs": [
    {
     "name": "stdout",
     "output_type": "stream",
     "text": [
      "\n",
      "    X1  X2  A=X1 & X2  B = X1 nor X2   Y = A nor B\n",
      "    0   0       0             1               0\n",
      "    0   1       0             0               1\n",
      "    1   0       0             0               1\n",
      "    1   1       1             0               0\n",
      "\n"
     ]
    }
   ],
   "source": [
    "print('''\n",
    "    X1  X2  A=X1 & X2  B = X1 nor X2   Y = A nor B\n",
    "    0   0       0             1               0\n",
    "    0   1       0             0               1\n",
    "    1   0       0             0               1\n",
    "    1   1       1             0               0\n",
    "''')"
   ]
  },
  {
   "cell_type": "markdown",
   "metadata": {},
   "source": [
    "  ### Parameters\n",
    "  * Input layer = 2 (x1, x2)\n",
    "  * Hidden layer 3 (AND, NOR, NOR)\n",
    "  * values in input layer = (0,1)\n",
    "  * Bias  = 1 (x0)\n",
    "  * Bias = 1 (h0) # hidden layer - 1 \n",
    "  * Weights_X1_hidden0 = w00, w01, w02\n",
    "  * Weights_X2_hidden0 = w10, w11, w12\n",
    "  * Weights_hidden1 = w0, w1, w2\n",
    "  * activation Function =  sigmoid\n",
    "  <br>\n",
    "  <br>\n",
    "  \n",
    "  ### Hidden layer -1\n",
    "  * z0 = w00 + w01\\*x1 + w02\\*x2\n",
    "  * z1 = w10 + w11\\*x1 + w12\\*x2\n",
    "  <br>\n",
    "  <br>\n",
    "  <br>\n",
    "  \n",
    "  ### Hidden layer -2\n",
    "  * z2 = w0 + w1 * sigmoid(z0) + w2 * sigmoid(z1)\n",
    "  \n",
    "  <br>\n",
    "  <br>\n",
    "  \n",
    "### Explanation\n",
    "   \n",
    "   1. AND\n",
    "             z0 = w00 + w01\\*x1 + w02\\*x2\n",
    "             if X1 = 1,X2 =1 then Y = 1 i.e. z0>=0 \n",
    "             else Y = 0 i.e. z0<0\n",
    "   2. NOR\n",
    "             z1 = w10 + w11\\*x1 + w12\\*x2\n",
    "             if X1 = 0,X2 =0 then Y = 1 i.e. z1>=0 \n",
    "             else Y = 0 i.e. z1<0\n",
    "\n",
    "   3. NOR\n",
    "             z2 = w0 + w1 * sigmoid(z0) + w2 * sigmoid(z1)\n",
    "             if sigmoid(z0) = 0, sigmoid(z1) =0 then Y = 1 i.e. z2>=0 \n",
    "             else Y = 0 i.e. z2<0"
   ]
  },
  {
   "cell_type": "code",
   "execution_count": 17,
   "metadata": {},
   "outputs": [],
   "source": [
    "def scale(val):\n",
    "    if val>=0.5:\n",
    "        return 1\n",
    "    else:\n",
    "        return 0"
   ]
  },
  {
   "cell_type": "code",
   "execution_count": 18,
   "metadata": {},
   "outputs": [
    {
     "name": "stdout",
     "output_type": "stream",
     "text": [
      "AND Layer \n",
      "Enter Weights For bias layer -1\n",
      "-2\n",
      "Enter Weights For InputX1 layer -1\n",
      "1\n",
      "Enter Weights For InputX2 layer -1\n",
      "1\n"
     ]
    }
   ],
   "source": [
    "print(\"AND Layer \")\n",
    "print(\"Enter Weights For bias layer -1\")\n",
    "w00 = int(input())\n",
    "print(\"Enter Weights For InputX1 layer -1\")\n",
    "w01 = int(input())\n",
    "print(\"Enter Weights For InputX2 layer -1\")\n",
    "w02 = int(input())"
   ]
  },
  {
   "cell_type": "code",
   "execution_count": 19,
   "metadata": {},
   "outputs": [
    {
     "name": "stdout",
     "output_type": "stream",
     "text": [
      "NOR layer\n",
      "Enter Weights For bias layer -2\n",
      "25\n",
      "Enter Weights For InputX1 layer -2\n",
      "-50\n",
      "Enter Weights For InputX2 layer -2\n",
      "-50\n"
     ]
    }
   ],
   "source": [
    "print(\"NOR layer\")\n",
    "print(\"Enter Weights For bias layer -2\")\n",
    "w10 = int(input())\n",
    "print(\"Enter Weights For InputX1 layer -2\")\n",
    "w11 = int(input())\n",
    "print(\"Enter Weights For InputX2 layer -2\")\n",
    "w12 = int(input())"
   ]
  },
  {
   "cell_type": "code",
   "execution_count": 24,
   "metadata": {},
   "outputs": [
    {
     "name": "stdout",
     "output_type": "stream",
     "text": [
      "Enter Weights For bias layer -2 \n",
      "1\n",
      "Enter Weights For AND neuron \n",
      "-1\n",
      "Enter Weights For NOR neuron \n",
      "-1\n"
     ]
    }
   ],
   "source": [
    "print(\"Enter Weights For bias layer -2 \")\n",
    "w0 = int(input())\n",
    "print(\"Enter Weights For AND neuron \")\n",
    "w1 = int(input())\n",
    "print(\"Enter Weights For NOR neuron \")\n",
    "w2 = int(input())"
   ]
  },
  {
   "cell_type": "code",
   "execution_count": 25,
   "metadata": {},
   "outputs": [],
   "source": [
    "def sigmoid(val):\n",
    "    return 1/(1+math.exp(-val))"
   ]
  },
  {
   "cell_type": "code",
   "execution_count": 26,
   "metadata": {},
   "outputs": [
    {
     "name": "stdout",
     "output_type": "stream",
     "text": [
      "Weights are w0:1 w1:-1 w2:-1 \n",
      "X1\tX2\tA=X1 & X2\tB=X1 nor X2\tY=A nor B\tYpred\tz\n",
      "0\t0\t0\t\t1\t\t0\t\t0\t0\n",
      "0\t1\t0\t\t0\t\t1\t\t1\t1\n",
      "1\t0\t0\t\t0\t\t1\t\t1\t1\n",
      "1\t1\t1\t\t0\t\t0\t\t0\t0\n"
     ]
    }
   ],
   "source": [
    "import math\n",
    "print(\"Weights are w0:{w0} w1:{w1} w2:{w2} \".format(w0=w0, w1=w1, w2=w2))\n",
    "print(\"X1\\tX2\\tA=X1 & X2\\tB=X1 nor X2\\tY=A nor B\\tYpred\\tz\")\n",
    "for x1 in range (2):\n",
    "    for x2 in range(2):\n",
    "        z0 = w00 + w01*x1 + w02*x2\n",
    "        z1 = w10 + w11*x1 + w12*x2\n",
    "        z2 = w0 + w1 * scale(sigmoid(z0)) + w2 * scale(sigmoid(z1))\n",
    "        print(\"{X1}\\t{X2}\\t{A}\\t\\t{B}\\t\\t{y}\\t\\t{yp}\\t{z}\".format(X1=x1,X2=x2,A=scale(sigmoid(z0)),B=scale(sigmoid(z1)),y = int(x1 ^ x2),z=z2,yp=scale(z2)))"
   ]
  },
  {
   "cell_type": "code",
   "execution_count": null,
   "metadata": {},
   "outputs": [],
   "source": []
  }
 ],
 "metadata": {
  "kernelspec": {
   "display_name": "Python 3",
   "language": "python",
   "name": "python3"
  },
  "language_info": {
   "codemirror_mode": {
    "name": "ipython",
    "version": 3
   },
   "file_extension": ".py",
   "mimetype": "text/x-python",
   "name": "python",
   "nbconvert_exporter": "python",
   "pygments_lexer": "ipython3",
   "version": "3.8.5"
  }
 },
 "nbformat": 4,
 "nbformat_minor": 4
}
