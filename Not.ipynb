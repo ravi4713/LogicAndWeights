{
 "cells": [
  {
   "cell_type": "markdown",
   "metadata": {},
   "source": [
    "# NOT !"
   ]
  },
  {
   "cell_type": "markdown",
   "metadata": {},
   "source": [
    "Sigmoid Function = 1/(1+e^-z)"
   ]
  },
  {
   "cell_type": "markdown",
   "metadata": {},
   "source": [
    "### Truth Table\n",
    "**X** **Y** <br>\n",
    "  0 1 <br>\n",
    "  1  0 <br>\n",
    "  \n",
    " "
   ]
  },
  {
   "cell_type": "markdown",
   "metadata": {},
   "source": [
    "  ### Parameters\n",
    "  * Input layer = 1 (x1)\n",
    "  * values in input layer = (0,1)\n",
    "  * Bias  = 1 (x0)\n",
    "  * Weights = w0, w1\n",
    "  * activation Function =  sigmoid\n",
    "  <br>\n",
    "  <br>\n",
    "  * z = w0\\*x0 + w1\\*x1\n",
    "  \n",
    "          if X = 0, then Y = 1 i.e. z>=0 \n",
    "          if X = 1, then Y = 0 i.e. z<0\n",
    "  \n",
    "  "
   ]
  },
  {
   "cell_type": "code",
   "execution_count": 6,
   "metadata": {},
   "outputs": [],
   "source": [
    "def scale(val):\n",
    "    if val>=0.5:\n",
    "        return 1\n",
    "    else:\n",
    "        return 0"
   ]
  },
  {
   "cell_type": "code",
   "execution_count": 2,
   "metadata": {},
   "outputs": [
    {
     "name": "stdout",
     "output_type": "stream",
     "text": [
      "Enter Weights For bias \n",
      "50\n",
      "Enter Weights For InputX \n",
      "-75\n"
     ]
    }
   ],
   "source": [
    "print(\"Enter Weights For bias \")\n",
    "w0 = int(input())\n",
    "print(\"Enter Weights For InputX \")\n",
    "w1 = int(input())\n",
    "\n"
   ]
  },
  {
   "cell_type": "markdown",
   "metadata": {},
   "source": [
    "When X=0, then Y=1 i.e. Z>=0 or w0>=0<br>\n",
    "When X=1, then Y=0 i.e. Z<0 or w0+w1<0"
   ]
  },
  {
   "cell_type": "code",
   "execution_count": 7,
   "metadata": {},
   "outputs": [
    {
     "name": "stdout",
     "output_type": "stream",
     "text": [
      "Weights are w0:50 w1:-75 \n",
      "X\tY\tZ\tYpred\n",
      "0\t1\t50\t1\n",
      "1\t0\t-25\t0\n"
     ]
    }
   ],
   "source": [
    "import math\n",
    "print(\"Weights are w0:{w0} w1:{w1} \".format(w0=w0, w1=w1))\n",
    "print(\"X\\tY\\tZ\\tYpred\")\n",
    "for x in range (2):\n",
    "    Z = w0+ w1*x\n",
    "    sigmoid = 1/(1+math.exp(-Z))\n",
    "    print(\"{X}\\t{y}\\t{z}\\t{yp}\".format(X=x,y = int(not x),z=Z,yp=scale(sigmoid) ))"
   ]
  },
  {
   "cell_type": "code",
   "execution_count": null,
   "metadata": {},
   "outputs": [],
   "source": []
  }
 ],
 "metadata": {
  "kernelspec": {
   "display_name": "Python 3",
   "language": "python",
   "name": "python3"
  },
  "language_info": {
   "codemirror_mode": {
    "name": "ipython",
    "version": 3
   },
   "file_extension": ".py",
   "mimetype": "text/x-python",
   "name": "python",
   "nbconvert_exporter": "python",
   "pygments_lexer": "ipython3",
   "version": "3.8.5"
  }
 },
 "nbformat": 4,
 "nbformat_minor": 4
}
